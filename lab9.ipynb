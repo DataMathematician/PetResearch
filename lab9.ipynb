{
 "metadata": {
  "language_info": {
   "codemirror_mode": {
    "name": "ipython",
    "version": 3
   },
   "file_extension": ".py",
   "mimetype": "text/x-python",
   "name": "python",
   "nbconvert_exporter": "python",
   "pygments_lexer": "ipython3",
   "version": "3.8.8"
  },
  "orig_nbformat": 2,
  "kernelspec": {
   "name": "python388jvsc74a57bd07c66091b2185b03bad8cd3189f1ac261c4ad64f04f4869a2befdfd30856a4cb7",
   "display_name": "Python 3.8.8 64-bit ('steam': conda)"
  }
 },
 "nbformat": 4,
 "nbformat_minor": 2,
 "cells": [
  {
   "cell_type": "code",
   "execution_count": 20,
   "metadata": {},
   "outputs": [],
   "source": [
    "import numpy as np\n",
    "import tensorflow as tf\n",
    "from tensorflow import keras\n",
    "from tensorflow.keras import layers\n",
    "from keras.datasets import mnist\n",
    "from keras.models import Sequential\n",
    "from keras.layers import Embedding,LSTM,Dense,Dropout,RNN,LSTMCell,BatchNormalization\n",
    "from keras.optimizers import SGD"
   ]
  },
  {
   "cell_type": "code",
   "execution_count": 36,
   "metadata": {},
   "outputs": [],
   "source": [
    "num_classes = 10\n",
    "\n",
    "(x_train, y_train), (x_test, y_test) = mnist.load_data()\n",
    "x_train =x_train.reshape(x_train.shape[0],784)/255\n",
    "x_test =x_test.reshape(x_test.shape[0],784)/255\n",
    "\n",
    "y_train = keras.utils.to_categorical(y_train,num_classes=num_classes)\n",
    "y_test = keras.utils.to_categorical(y_test,num_classes=num_classes)"
   ]
  },
  {
   "source": [
    "# Перцетрпон - 3 скрытых слоя, ф-ия активации 'relu'. Функция потерь - 'adam' - адаптивный градиентный спуск (скорость обучения подгоняется автоматически во время обучения). \n",
    "# На вход вектор 1:784 далее -> \n",
    "# 1:784х784:1568            - скрытый слой 1\n",
    "# 1:1568x1568:1568          - скрытый слой 2\n",
    "# 1:1568x1568:1568          - скрытый слой 3\n",
    "# 1:1568x1568:10 --> 1:10   - выходной слой\n",
    "# 784 + 1568х3 + 10 = 5498 нейронов (узлов) всего\n",
    "# \n",
    "# Быстрее работает рекурентная сеть (RNN) нежели перцептрон, точность примерно одинаковая, притом, что нейронов в RNN меньше. В данном случае точность перцептрона можно улучшить, задав функцию ошибки не adam, а sgd со скоростью обучения 0.0001 (точность ~ 98.5%). Так же можно инициализировать веса не случайными значениями, а предобученными, что тоде скажется на точности. Увеличивая число слоёв или число нейронов, можно улучшить точность, но так же повышается шанс переобучить модель, хотя в данном случае для практических задач не годится ни одна из моделей, сверточная сеть будет лучше, за счет того, что кодирует изображение \"свёртками\" (окошками по 9 пикселей как в лабораторной работе 6 часть 2), за счет этого, точность распознавания рукописных символов повышается вне зависимости от расположения символа на картинке.\n",
    "model_1 = Sequential()\n",
    "model_1.add(Dense(1568,input_dim = 784, activation = 'relu'))\n",
    "model_1.add(Dropout(0.2))\n",
    "model_1.add(Dense(1568, activation = 'relu'))\n",
    "model_1.add(Dropout(0.2))\n",
    "model_1.add(Dense(1568, activation = 'relu'))\n",
    "model_1.add(Dropout(0.2))\n",
    "model_1.add(Dense(num_classes, activation = 'softmax'))\n",
    "\n",
    "model_1.compile(loss='categorical_crossentropy',optimizer='adam',metrics=['accuracy'])\n",
    "model_1.fit(x_train, y_train,epochs=5,batch_size=32,validation_data=(x_test, y_test))\n",
    "model_1.save('lab9_SNN_1.h5')"
   ],
   "cell_type": "code",
   "metadata": {},
   "execution_count": 37,
   "outputs": [
    {
     "output_type": "stream",
     "name": "stdout",
     "text": [
      "Epoch 1/5\n",
      "1875/1875 [==============================] - 65s 35ms/step - loss: 0.2343 - accuracy: 0.9310 - val_loss: 0.1252 - val_accuracy: 0.9624\n",
      "Epoch 2/5\n",
      "1875/1875 [==============================] - 65s 35ms/step - loss: 0.1313 - accuracy: 0.9624 - val_loss: 0.1148 - val_accuracy: 0.9683\n",
      "Epoch 3/5\n",
      "1875/1875 [==============================] - 64s 34ms/step - loss: 0.1033 - accuracy: 0.9706 - val_loss: 0.1022 - val_accuracy: 0.9721\n",
      "Epoch 4/5\n",
      "1875/1875 [==============================] - 64s 34ms/step - loss: 0.0883 - accuracy: 0.9749 - val_loss: 0.1106 - val_accuracy: 0.9717\n",
      "Epoch 5/5\n",
      "1875/1875 [==============================] - 67s 36ms/step - loss: 0.0809 - accuracy: 0.9774 - val_loss: 0.1262 - val_accuracy: 0.9711\n"
     ]
    }
   ]
  },
  {
   "cell_type": "code",
   "execution_count": 12,
   "metadata": {},
   "outputs": [
    {
     "output_type": "stream",
     "name": "stdout",
     "text": [
      "313/313 [==============================] - 2s 7ms/step - loss: 0.2052 - accuracy: 0.9609\n",
      "Потери на тесте: 0.2052420824766159\n",
      "Точность на тесте: 0.9609000086784363\n"
     ]
    }
   ],
   "source": [
    "score = model_1.evaluate(x_test, y_test, verbose=1)\n",
    "print('Потери на тесте:', score[0])\n",
    "print('Точность на тесте:', score[1])"
   ]
  },
  {
   "cell_type": "code",
   "execution_count": 43,
   "metadata": {},
   "outputs": [],
   "source": [
    "mnist = keras.datasets.mnist\n",
    "\n",
    "(x_train, y_train), (x_test, y_test) = mnist.load_data()\n",
    "x_train, x_test = x_train / 255.0, x_test / 255.0\n",
    "sample, sample_label = x_train[0], y_train[0]"
   ]
  },
  {
   "cell_type": "code",
   "execution_count": 44,
   "metadata": {},
   "outputs": [],
   "source": [
    "lstm_layer = RNN(LSTMCell(156), input_shape = (None, 28))\n",
    "model = Sequential()\n",
    "model.add(lstm_layer)\n",
    "model.add(BatchNormalization())\n",
    "model.add(Dropout(0.2))\n",
    "model.add(Dense(10,activation = 'softmax'))\n",
    "\n",
    "model.compile(loss=keras.losses.SparseCategoricalCrossentropy(from_logits=True),optimizer=\"adam\", metrics=[\"accuracy\"])\n",
    "model.fit(x_train, y_train, validation_data=(x_test, y_test), batch_size=32,epochs=5)\n",
    "model.save('lab9_RNN.h5')\n",
    "print(\"Модель сохранена как lab9_RNN.h5\")"
   ]
  },
  {
   "cell_type": "code",
   "execution_count": 45,
   "metadata": {},
   "outputs": [
    {
     "output_type": "stream",
     "name": "stdout",
     "text": [
      "Epoch 1/5\n",
      "1875/1875 [==============================] - 41s 22ms/step - loss: 1.5793 - accuracy: 0.8873 - val_loss: 1.5083 - val_accuracy: 0.9540\n",
      "Epoch 2/5\n",
      "1875/1875 [==============================] - 51s 27ms/step - loss: 1.5041 - accuracy: 0.9586 - val_loss: 1.4915 - val_accuracy: 0.9702\n",
      "Epoch 3/5\n",
      "1875/1875 [==============================] - 46s 25ms/step - loss: 1.4953 - accuracy: 0.9664 - val_loss: 1.4915 - val_accuracy: 0.9693\n",
      "Epoch 4/5\n",
      "1875/1875 [==============================] - 52s 28ms/step - loss: 1.4903 - accuracy: 0.9714 - val_loss: 1.4853 - val_accuracy: 0.9759\n",
      "Epoch 5/5\n",
      "1875/1875 [==============================] - 46s 25ms/step - loss: 1.4863 - accuracy: 0.9750 - val_loss: 1.4839 - val_accuracy: 0.9779\n"
     ]
    },
    {
     "output_type": "execute_result",
     "data": {
      "text/plain": [
       "<tensorflow.python.keras.callbacks.History at 0x17b000dbaf0>"
      ]
     },
     "metadata": {},
     "execution_count": 45
    }
   ],
   "source": []
  },
  {
   "cell_type": "code",
   "execution_count": 46,
   "metadata": {},
   "outputs": [
    {
     "output_type": "stream",
     "name": "stdout",
     "text": [
      "Модель сохранена как lab9_RNN.h5\n"
     ]
    }
   ],
   "source": []
  },
  {
   "cell_type": "code",
   "execution_count": null,
   "metadata": {},
   "outputs": [],
   "source": []
  }
 ]
}