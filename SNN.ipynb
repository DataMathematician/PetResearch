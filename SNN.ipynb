{
 "metadata": {
  "language_info": {
   "codemirror_mode": {
    "name": "ipython",
    "version": 3
   },
   "file_extension": ".py",
   "mimetype": "text/x-python",
   "name": "python",
   "nbconvert_exporter": "python",
   "pygments_lexer": "ipython3",
   "version": 3
  },
  "orig_nbformat": 2
 },
 "nbformat": 4,
 "nbformat_minor": 2,
 "cells": [
  {
   "cell_type": "code",
   "execution_count": null,
   "metadata": {},
   "outputs": [],
   "source": [
    "import numpy as np\n",
    "import tensorflow as tf\n",
    "from tensorflow import keras\n",
    "from tensorflow.keras import layers\n",
    "from keras.datasets import mnist\n",
    "from keras.models import Sequential\n",
    "from keras.layers import Embedding,LSTM,Dense,Dropout\n",
    "from keras.optimizers import SGD"
   ]
  },
  {
   "cell_type": "code",
   "execution_count": null,
   "metadata": {},
   "outputs": [],
   "source": [
    "(x_train, y_train), (x_test, y_test) = mnist.load_data()\n",
    "x_train.shape\n",
    "x_train =x_train.reshape(x_train.shape[0],784)\n",
    "x_test =x_test.reshape(x_test.shape[0],784)\n",
    "\n",
    "y_train = keras.utils.to_categorical(y_train,num_classes=10)\n",
    "y_test = keras.utils.to_categorical(y_test,num_classes=10)"
   ]
  },
  {
   "cell_type": "code",
   "execution_count": null,
   "metadata": {},
   "outputs": [],
   "source": [
    "# Перцетрпон - 3 скрытых слоя, ф-ия активации 'relu'. Функция потерь - 'sgd' - стохастический градиентный спуск (скорость обучения подбирается лапками) \n",
    "model_2 = Sequential()\n",
    "model.add(Dense(1568,input_dim = 784, activation = 'relu'))\n",
    "model.add(Dropout(0.2))\n",
    "model.add(Dense(1568, activation = 'relu'))\n",
    "model.add(Dropout(0.2))\n",
    "model.add(Dense(1568, activation = 'relu'))\n",
    "model.add(Dropout(0.2))\n",
    "model.add(Dense(num_classes, activation = 'softmax'))\n",
    "\n",
    "sgd = SGD(lr=0.0001, decay=1e-6, momentum=0.9, nesterov=True)\n",
    "model.compile(loss='categorical_crossentropy',optimizer=sgd,metrics=['accuracy'])\n",
    "model.fit(x_train, y_train,epochs=5,batch_size=32,validation_data=(x_test, y_test))\n",
    "model.save('lab9_SNN_2.h5')"
   ]
  },
  {
   "cell_type": "code",
   "execution_count": null,
   "metadata": {},
   "outputs": [],
   "source": [
    "# Перцетрпон - 3 скрытых слоя, ф-ия активации 'relu'. Функция потерь - 'adam' - адаптивный градиентный спуск (скорость обучения подгоняется автоматически во время обучения) \n",
    "model_1 = Sequential()\n",
    "model.add(Dense(1568,input_dim = 784, activation = 'relu'))\n",
    "model.add(Dropout(0.2))\n",
    "model.add(Dense(1568, activation = 'relu'))\n",
    "model.add(Dropout(0.2))\n",
    "model.add(Dense(1568, activation = 'relu'))\n",
    "model.add(Dropout(0.2))\n",
    "model.add(Dense(num_classes, activation = 'softmax'))\n",
    "\n",
    "model.compile(loss='categorical_crossentropy',optimizer='adam',metrics=['accuracy'])\n",
    "model.fit(x_train, y_train,epochs=5,batch_size=32,validation_data=(x_test, y_test))\n",
    "model.save('lab9_SNN_1.h5')"
   ]
  }
 ]
}